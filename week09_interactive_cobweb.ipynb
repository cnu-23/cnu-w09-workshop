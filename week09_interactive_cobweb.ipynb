{
 "cells": [
  {
   "cell_type": "code",
   "execution_count": 67,
   "metadata": {},
   "outputs": [],
   "source": [
    "from ipywidgets import interact\n",
    "import ipywidgets as widgets\n",
    "\n",
    "import matplotlib.pyplot as plt\n",
    "import numpy as np\n",
    "\n",
    "a = 3.1\n",
    "\n",
    "# Iteration function\n",
    "def G(x):\n",
    "   return a * x * (1 - x)\n",
    "\n",
    "# Initial guess and number of iterations\n",
    "x0 = np.random.random(1)[0]\n",
    "kmax = 100\n",
    "\n",
    "# Create a list to store all iterations\n",
    "x_iters = [x0]\n",
    "\n",
    "for k in range(kmax):\n",
    "    # Fixed point iteration x_{k+1} = G(x_k)\n",
    "    x_iters.append(G(x_iters[-1]))\n",
    "\n",
    "# Prepare suitable arrays to plot the cobweb\n",
    "x_plot = []\n",
    "y_plot = []\n",
    "for k in range(len(x_iters)-1):\n",
    "    x_plot += [x_iters[k], x_iters[k]]\n",
    "    y_plot += [x_iters[k], x_iters[k+1]]\n",
    "\n",
    "xmin, xmax = 0, 1\n",
    "ymin, ymax = 0, 1.2*a/4\n",
    "x = np.linspace(xmin, xmax, 100)\n",
    "\n",
    "# Define a function for the animation\n",
    "def plot_cobweb(k):\n",
    "    # Plot y=x and y=G(x)\n",
    "    plt.plot(x, x, 'b-', label=r'$y = x$')\n",
    "    plt.plot(x, G(x), 'r-', label=r'$y = ax(x-1)$')\n",
    "\n",
    "    # Plot the cobweb branches for the current iteration\n",
    "    for i in range(k):\n",
    "        plt.plot(x_plot[i:i+2], y_plot[i:i+2], 'g', alpha=0.4, marker='.')\n",
    "    # plt.plot(x_plot[:k], y_plot[:k], 'g', marker='.') # this plots everything as one single curve, but breaks transparency overlay\n",
    "    plt.xlim([xmin, xmax])\n",
    "    plt.ylim([ymin, ymax])"
   ]
  },
  {
   "attachments": {},
   "cell_type": "markdown",
   "metadata": {},
   "source": [
    "The following cell creates a Play widget, which calls the function `plot_cobweb()` and attaches the widget to different values of the `k` input. `interval` is the time between successive frames (in milliseconds)."
   ]
  },
  {
   "cell_type": "code",
   "execution_count": 69,
   "metadata": {},
   "outputs": [
    {
     "data": {
      "application/vnd.jupyter.widget-view+json": {
       "model_id": "78ffef7fa21a46d8ab9df5c941043d06",
       "version_major": 2,
       "version_minor": 0
      },
      "text/plain": [
       "interactive(children=(Play(value=0, description='k', interval=500, max=99), Output()), _dom_classes=('widget-i…"
      ]
     },
     "metadata": {},
     "output_type": "display_data"
    }
   ],
   "source": [
    "# Run this and press play!\n",
    "interactive_plot = interact(plot_cobweb, k=widgets.Play(min=0, max=kmax-1, interval=500))"
   ]
  }
 ],
 "metadata": {
  "kernelspec": {
   "display_name": "base",
   "language": "python",
   "name": "python3"
  },
  "language_info": {
   "codemirror_mode": {
    "name": "ipython",
    "version": 3
   },
   "file_extension": ".py",
   "mimetype": "text/x-python",
   "name": "python",
   "nbconvert_exporter": "python",
   "pygments_lexer": "ipython3",
   "version": "3.10.8"
  },
  "orig_nbformat": 4
 },
 "nbformat": 4,
 "nbformat_minor": 2
}
